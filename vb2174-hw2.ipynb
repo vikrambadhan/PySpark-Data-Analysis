{
  "cells": [
    {
      "cell_type": "code",
      "execution_count": null,
      "id": "40fcc5d9",
      "metadata": {
        "colab": {
          "base_uri": "https://localhost:8080/"
        },
        "id": "40fcc5d9",
        "outputId": "f0b5bb94-7713-4264-edf7-312830c20eea"
      },
      "outputs": [
        {
          "output_type": "stream",
          "name": "stdout",
          "text": [
            "Looking in indexes: https://pypi.org/simple, https://us-python.pkg.dev/colab-wheels/public/simple/\n",
            "Collecting pyspark\n",
            "  Downloading pyspark-3.3.0.tar.gz (281.3 MB)\n",
            "\u001b[K     |████████████████████████████████| 281.3 MB 43 kB/s \n",
            "\u001b[?25hCollecting py4j==0.10.9.5\n",
            "  Downloading py4j-0.10.9.5-py2.py3-none-any.whl (199 kB)\n",
            "\u001b[K     |████████████████████████████████| 199 kB 51.6 MB/s \n",
            "\u001b[?25hBuilding wheels for collected packages: pyspark\n",
            "  Building wheel for pyspark (setup.py) ... \u001b[?25l\u001b[?25hdone\n",
            "  Created wheel for pyspark: filename=pyspark-3.3.0-py2.py3-none-any.whl size=281764026 sha256=9114b10f3c15d406cb3850cb98cfa71a30733d3894f73338cb8d6f2a0d71eb2f\n",
            "  Stored in directory: /root/.cache/pip/wheels/7a/8e/1b/f73a52650d2e5f337708d9f6a1750d451a7349a867f928b885\n",
            "Successfully built pyspark\n",
            "Installing collected packages: py4j, pyspark\n",
            "Successfully installed py4j-0.10.9.5 pyspark-3.3.0\n"
          ]
        }
      ],
      "source": [
        "!pip3 install pyspark\n",
        "import pyspark"
      ]
    },
    {
      "cell_type": "code",
      "execution_count": null,
      "id": "3f73ee0e",
      "metadata": {
        "id": "3f73ee0e"
      },
      "outputs": [],
      "source": [
        "spark = pyspark.sql.SparkSession.builder\\\n",
        "        .master('local[*]')\\\n",
        "        .appName('vikram_hw2 final')\\\n",
        "        .getOrCreate()"
      ]
    },
    {
      "cell_type": "code",
      "source": [
        "sc = spark.sparkContext\n",
        "sc.setLogLevel(\"ERROR\")\n",
        "sc"
      ],
      "metadata": {
        "colab": {
          "base_uri": "https://localhost:8080/",
          "height": 196
        },
        "id": "kp9N_4ngiCKR",
        "outputId": "efe1d2cb-0bf7-4207-e003-81308609ee50"
      },
      "id": "kp9N_4ngiCKR",
      "execution_count": null,
      "outputs": [
        {
          "output_type": "execute_result",
          "data": {
            "text/plain": [
              "<SparkContext master=local[*] appName=vikram_hw2 final>"
            ],
            "text/html": [
              "\n",
              "        <div>\n",
              "            <p><b>SparkContext</b></p>\n",
              "\n",
              "            <p><a href=\"http://ec67230cbd7e:4040\">Spark UI</a></p>\n",
              "\n",
              "            <dl>\n",
              "              <dt>Version</dt>\n",
              "                <dd><code>v3.3.0</code></dd>\n",
              "              <dt>Master</dt>\n",
              "                <dd><code>local[*]</code></dd>\n",
              "              <dt>AppName</dt>\n",
              "                <dd><code>vikram_hw2 final</code></dd>\n",
              "            </dl>\n",
              "        </div>\n",
              "        "
            ]
          },
          "metadata": {},
          "execution_count": 60
        }
      ]
    },
    {
      "cell_type": "markdown",
      "source": [
        "# Question 1"
      ],
      "metadata": {
        "id": "dNpKPbMIAAFO"
      },
      "id": "dNpKPbMIAAFO"
    },
    {
      "cell_type": "code",
      "execution_count": null,
      "id": "ced456dd",
      "metadata": {
        "colab": {
          "base_uri": "https://localhost:8080/"
        },
        "id": "ced456dd",
        "outputId": "b93b26b3-e877-412f-a1b0-b321aac062e3"
      },
      "outputs": [
        {
          "output_type": "stream",
          "name": "stdout",
          "text": [
            "+----------+--------+-----------+-------------+\n",
            "|      Date|    Time|Transaction|         Item|\n",
            "+----------+--------+-----------+-------------+\n",
            "|2016-10-30|09:58:11|          1|        Bread|\n",
            "|2016-10-30|10:05:34|          2| Scandinavian|\n",
            "|2016-10-30|10:05:34|          2| Scandinavian|\n",
            "|2016-10-30|10:07:57|          3|Hot chocolate|\n",
            "|2016-10-30|10:07:57|          3|          Jam|\n",
            "|2016-10-30|10:07:57|          3|      Cookies|\n",
            "|2016-10-30|10:08:41|          4|       Muffin|\n",
            "|2016-10-30|10:13:03|          5|       Coffee|\n",
            "|2016-10-30|10:13:03|          5|       Pastry|\n",
            "|2016-10-30|10:13:03|          5|        Bread|\n",
            "|2016-10-30|10:16:55|          6|    Medialuna|\n",
            "|2016-10-30|10:16:55|          6|       Pastry|\n",
            "|2016-10-30|10:16:55|          6|       Muffin|\n",
            "|2016-10-30|10:19:12|          7|    Medialuna|\n",
            "|2016-10-30|10:19:12|          7|       Pastry|\n",
            "|2016-10-30|10:19:12|          7|       Coffee|\n",
            "|2016-10-30|10:19:12|          7|          Tea|\n",
            "|2016-10-30|10:20:51|          8|       Pastry|\n",
            "|2016-10-30|10:20:51|          8|        Bread|\n",
            "|2016-10-30|10:21:59|          9|        Bread|\n",
            "+----------+--------+-----------+-------------+\n",
            "only showing top 20 rows\n",
            "\n"
          ]
        }
      ],
      "source": [
        "# question 1\n",
        "from pyspark.sql.functions import col,isnan,when,count\n",
        "data = spark.read.csv('BreadBasket_DMS.csv', header=True)\n",
        "data.show()"
      ]
    },
    {
      "cell_type": "code",
      "execution_count": null,
      "id": "df1b0e0a",
      "metadata": {
        "colab": {
          "base_uri": "https://localhost:8080/"
        },
        "id": "df1b0e0a",
        "outputId": "2bdc9e58-7abf-49a1-8e84-cc5f5b6c68da"
      },
      "outputs": [
        {
          "output_type": "stream",
          "name": "stdout",
          "text": [
            "+----------+----+-----------+-------------+\n",
            "|      Date|Time|Transaction|         Item|\n",
            "+----------+----+-----------+-------------+\n",
            "|2016-10-30|  09|          1|        Bread|\n",
            "|2016-10-30|  10|          2| Scandinavian|\n",
            "|2016-10-30|  10|          2| Scandinavian|\n",
            "|2016-10-30|  10|          3|Hot chocolate|\n",
            "|2016-10-30|  10|          3|          Jam|\n",
            "|2016-10-30|  10|          3|      Cookies|\n",
            "|2016-10-30|  10|          4|       Muffin|\n",
            "|2016-10-30|  10|          5|       Coffee|\n",
            "|2016-10-30|  10|          5|       Pastry|\n",
            "|2016-10-30|  10|          5|        Bread|\n",
            "|2016-10-30|  10|          6|    Medialuna|\n",
            "|2016-10-30|  10|          6|       Pastry|\n",
            "|2016-10-30|  10|          6|       Muffin|\n",
            "|2016-10-30|  10|          7|    Medialuna|\n",
            "|2016-10-30|  10|          7|       Pastry|\n",
            "|2016-10-30|  10|          7|       Coffee|\n",
            "|2016-10-30|  10|          7|          Tea|\n",
            "|2016-10-30|  10|          8|       Pastry|\n",
            "|2016-10-30|  10|          8|        Bread|\n",
            "|2016-10-30|  10|          9|        Bread|\n",
            "+----------+----+-----------+-------------+\n",
            "only showing top 20 rows\n",
            "\n"
          ]
        }
      ],
      "source": [
        "from pyspark.sql.window import Window\n",
        "import pyspark.sql.functions as f\n",
        "data=data.select(data.Date,data.Time[0:2],data.Transaction, data.Item )\n",
        "data=data.withColumnRenamed(\"substring(Time, 0, 2)\",\"Time\")\n",
        "data.show()\n",
        "# naturalising hours"
      ]
    },
    {
      "cell_type": "code",
      "execution_count": null,
      "id": "80810e29",
      "metadata": {
        "colab": {
          "base_uri": "https://localhost:8080/"
        },
        "id": "80810e29",
        "outputId": "624f3487-1ce9-4d7d-b7d5-9331ba2876ba"
      },
      "outputs": [
        {
          "output_type": "stream",
          "name": "stdout",
          "text": [
            "+----------+----+-----------+-------------+\n",
            "|      Date|Time|Transaction|         Item|\n",
            "+----------+----+-----------+-------------+\n",
            "|2016-10-30|  09|          1|        Bread|\n",
            "|2016-10-30|  10|          1|       Basket|\n",
            "|2016-10-30|  10|          2|   Farm House|\n",
            "|2016-10-30|  10|          1|        Fudge|\n",
            "|2016-10-30|  10|          3|          Jam|\n",
            "|2016-10-30|  10|          3|         NONE|\n",
            "|2016-10-30|  10|          2|Hot chocolate|\n",
            "|2016-10-30|  10|          1|      Cookies|\n",
            "|2016-10-30|  10|          6| Scandinavian|\n",
            "|2016-10-30|  10|         12|        Bread|\n",
            "|2016-10-30|  10|          6|       Pastry|\n",
            "|2016-10-30|  10|          7|       Coffee|\n",
            "|2016-10-30|  10|          1|Mineral water|\n",
            "|2016-10-30|  10|          1|      Tartine|\n",
            "|2016-10-30|  10|          2|          Tea|\n",
            "|2016-10-30|  10|          4|       Muffin|\n",
            "|2016-10-30|  10|          8|    Medialuna|\n",
            "|2016-10-30|  11|          1|       Basket|\n",
            "|2016-10-30|  11|          7|        Bread|\n",
            "|2016-10-30|  11|          4|       Muffin|\n",
            "+----------+----+-----------+-------------+\n",
            "only showing top 20 rows\n",
            "\n"
          ]
        }
      ],
      "source": [
        "data = data.withColumn('Transaction', f.count('*').over(Window.partitionBy(f.to_date(data.Date), data.Item, data.Time)))\n",
        "data = data.distinct()\n",
        "data = data.sort(data.Date,data.Time)\n",
        "data.show()\n",
        "# all distinct elements per hour only final record"
      ]
    },
    {
      "cell_type": "code",
      "execution_count": null,
      "id": "0f64a342",
      "metadata": {
        "id": "0f64a342"
      },
      "outputs": [],
      "source": [
        "# name change to number of transanctions\n",
        "data = data.select(data.Item, data.Time, data.Transaction.alias(\"Number of items\"))"
      ]
    },
    {
      "cell_type": "code",
      "source": [
        "data = data.groupBy('Item','Time').sum('Number of items')\\\n",
        ".withColumnRenamed('sum(Number of items)', 'total')"
      ],
      "metadata": {
        "id": "WsaypNFSaK57"
      },
      "id": "WsaypNFSaK57",
      "execution_count": null,
      "outputs": []
    },
    {
      "cell_type": "code",
      "source": [
        "data = data.filter(data.Time >= 9)\n",
        "data = data.filter(data.Time < 23)"
      ],
      "metadata": {
        "id": "xWYhWyELbITV"
      },
      "id": "xWYhWyELbITV",
      "execution_count": null,
      "outputs": []
    },
    {
      "cell_type": "code",
      "source": [
        "data = data.select(data.Item, data.total)"
      ],
      "metadata": {
        "id": "KTelZAKeb1R_"
      },
      "id": "KTelZAKeb1R_",
      "execution_count": null,
      "outputs": []
    },
    {
      "cell_type": "code",
      "source": [
        "data.show()"
      ],
      "metadata": {
        "colab": {
          "base_uri": "https://localhost:8080/"
        },
        "id": "z-Adc6OJc9-y",
        "outputId": "d075640e-4361-4b40-9cc1-f58d11fecfa3"
      },
      "id": "z-Adc6OJc9-y",
      "execution_count": null,
      "outputs": [
        {
          "output_type": "stream",
          "name": "stdout",
          "text": [
            "+--------------------+-----+\n",
            "|                Item|total|\n",
            "+--------------------+-----+\n",
            "|               Scone|   32|\n",
            "|            Baguette|   12|\n",
            "|           The Nomad|   11|\n",
            "|            Mortimer|    1|\n",
            "|Raspberry shortbr...|    1|\n",
            "|      Dulce de Leche|    1|\n",
            "|               Bread|  400|\n",
            "|    Valentine's card|    2|\n",
            "|        Scandinavian|   17|\n",
            "|   Gingerbread syrup|    3|\n",
            "|      Jammie Dodgers|   17|\n",
            "|                Eggs|    5|\n",
            "|                Eggs|    1|\n",
            "|        Scandinavian|   58|\n",
            "|             Cookies|   77|\n",
            "|Extra Salami or Feta|    3|\n",
            "|           Medialuna|  120|\n",
            "|               Scone|   50|\n",
            "|    Keeping It Local|    3|\n",
            "|   Lemon and coconut|    3|\n",
            "+--------------------+-----+\n",
            "only showing top 20 rows\n",
            "\n"
          ]
        }
      ]
    },
    {
      "cell_type": "code",
      "source": [
        "data = data.groupby('Item').sum('total').withColumnRenamed('sum(total)', 'total')"
      ],
      "metadata": {
        "id": "DuGYIEhwclAT"
      },
      "id": "DuGYIEhwclAT",
      "execution_count": null,
      "outputs": []
    },
    {
      "cell_type": "code",
      "source": [
        "from pyspark.sql.functions import desc\n",
        "data.sort(desc('total')).show(5)"
      ],
      "metadata": {
        "colab": {
          "base_uri": "https://localhost:8080/"
        },
        "id": "ukHLiKCtdZqE",
        "outputId": "a77d7b37-dd09-4207-cf2f-f4b3a840a4ce"
      },
      "id": "ukHLiKCtdZqE",
      "execution_count": null,
      "outputs": [
        {
          "output_type": "stream",
          "name": "stdout",
          "text": [
            "+------+-----+\n",
            "|  Item|total|\n",
            "+------+-----+\n",
            "|Coffee| 5259|\n",
            "| Bread| 3151|\n",
            "|   Tea| 1414|\n",
            "|  Cake| 1017|\n",
            "|Pastry|  797|\n",
            "+------+-----+\n",
            "only showing top 5 rows\n",
            "\n"
          ]
        }
      ]
    },
    {
      "cell_type": "markdown",
      "source": [
        "# Question 2"
      ],
      "metadata": {
        "id": "aJQV0T0fAJQ8"
      },
      "id": "aJQV0T0fAJQ8"
    },
    {
      "cell_type": "code",
      "execution_count": null,
      "id": "75021705",
      "metadata": {
        "id": "75021705"
      },
      "outputs": [],
      "source": [
        "#question 2\n",
        "data = spark.read.option(\"delimiter\", \";\").csv(\"Restaurants_in_Durham_County_NC.csv\", header = True)"
      ]
    },
    {
      "cell_type": "code",
      "execution_count": null,
      "id": "bea48a8a",
      "metadata": {
        "colab": {
          "base_uri": "https://localhost:8080/"
        },
        "id": "bea48a8a",
        "outputId": "66544a14-3e79-48af-ba71-53a8dd40d4a4"
      },
      "outputs": [
        {
          "output_type": "stream",
          "name": "stdout",
          "text": [
            "+-----+--------------------+--------------------+----------------+------------+-------------+-----------+--------------+------------------+------------+------------+-----+--------------------+--------------------+---------+--------------------+----+---------------+--------------------+----------------+------+----------------------+--------------------+\n",
            "|   ID|        Premise_Name|    Premise_Address1|Premise_Address2|Premise_City|Premise_State|Premise_Zip| Premise_Phone|Hours_Of_Operation|Opening_Date|Closing_Date|Seats|               Water|              Sewage|Insp_Freq|      Est_Group_Desc|Risk|Smoking_Allowed|    Type_Description|   Rpt_Area_Desc|Status|Transitional_Type_Desc|         geolocation|\n",
            "+-----+--------------------+--------------------+----------------+------------+-------------+-----------+--------------+------------------+------------+------------+-----+--------------------+--------------------+---------+--------------------+----+---------------+--------------------+----------------+------+----------------------+--------------------+\n",
            "|56060|    WEST 94TH ST PUB| 4711 HOPE VALLEY RD|        SUITE 6C|      DURHAM|           NC|      27707|(919) 403-0025|              null|  1994-09-01|        null|   60|5 - Municipal/Com...|3 - Municipal/Com...|        4|Full-Service Rest...|   4|             NO|      1 - Restaurant|    Food Service|ACTIVE|                  FOOD|35.9207272, -78.9...|\n",
            "|58123|BROOKDALE DURHAM IFS|4434 BEN FRANKLIN...|            null|      DURHAM|           NC|      27704|(919) 479-9966|              null|  2003-10-15|        null|  350|5 - Municipal/Com...|3 - Municipal/Com...|        4|        Nursing Home|   4|             NO|16 - Institutiona...|    Food Service|ACTIVE|                  FOOD|36.0467802, -78.8...|\n",
            "|70266|       SMOOTHIE KING|1125 W. NC HWY 54...|            null|      DURHAM|           NC|      27707|(919) 489-7300|              null|  2009-07-09|        null|    7|5 - Municipal/Com...|3 - Municipal/Com...|        2|Fast Food Restaurant|   2|             NO|      1 - Restaurant|    Food Service|ACTIVE|                  FOOD|35.9182655, -78.9...|\n",
            "|97837|HAMPTON INN & SUITES|   1542 N GREGSON ST|            null|      DURHAM|           NC|      27701|(919) 688-8880|              null|  2012-01-09|        null|  100|5 - Municipal/Com...|3 - Municipal/Com...|        2|Full-Service Rest...|   2|             NO|      1 - Restaurant|    Food Service|ACTIVE|                  FOOD|36.0183378, -78.9...|\n",
            "|60690|BETTER LIVING CON...|       909 GARCIA ST|            null|      DURHAM|           NC|      27704|(919) 477-5825|              null|  2008-06-02|        null|    6|5 - Municipal/Com...|3 - Municipal/Com...|        1|                null|   0|            N/A|43 - Residential ...|Residential Care|ACTIVE|                   N/A|36.0556347, -78.9...|\n",
            "+-----+--------------------+--------------------+----------------+------------+-------------+-----------+--------------+------------------+------------+------------+-----+--------------------+--------------------+---------+--------------------+----+---------------+--------------------+----------------+------+----------------------+--------------------+\n",
            "only showing top 5 rows\n",
            "\n",
            "root\n",
            " |-- ID: string (nullable = true)\n",
            " |-- Premise_Name: string (nullable = true)\n",
            " |-- Premise_Address1: string (nullable = true)\n",
            " |-- Premise_Address2: string (nullable = true)\n",
            " |-- Premise_City: string (nullable = true)\n",
            " |-- Premise_State: string (nullable = true)\n",
            " |-- Premise_Zip: string (nullable = true)\n",
            " |-- Premise_Phone: string (nullable = true)\n",
            " |-- Hours_Of_Operation: string (nullable = true)\n",
            " |-- Opening_Date: string (nullable = true)\n",
            " |-- Closing_Date: string (nullable = true)\n",
            " |-- Seats: string (nullable = true)\n",
            " |-- Water: string (nullable = true)\n",
            " |-- Sewage: string (nullable = true)\n",
            " |-- Insp_Freq: string (nullable = true)\n",
            " |-- Est_Group_Desc: string (nullable = true)\n",
            " |-- Risk: string (nullable = true)\n",
            " |-- Smoking_Allowed: string (nullable = true)\n",
            " |-- Type_Description: string (nullable = true)\n",
            " |-- Rpt_Area_Desc: string (nullable = true)\n",
            " |-- Status: string (nullable = true)\n",
            " |-- Transitional_Type_Desc: string (nullable = true)\n",
            " |-- geolocation: string (nullable = true)\n",
            "\n"
          ]
        },
        {
          "output_type": "execute_result",
          "data": {
            "text/plain": [
              "2472"
            ]
          },
          "metadata": {},
          "execution_count": 42
        }
      ],
      "source": [
        "data.show(5)\n",
        "data.printSchema()\n",
        "data.count()"
      ]
    },
    {
      "cell_type": "code",
      "execution_count": null,
      "id": "af097f1b",
      "metadata": {
        "id": "af097f1b"
      },
      "outputs": [],
      "source": [
        "#total items are 2472 rows\n",
        "data = data.withColumn('new_column', f.lit(0))"
      ]
    },
    {
      "cell_type": "code",
      "execution_count": null,
      "id": "98d0a9d7",
      "metadata": {
        "id": "98d0a9d7"
      },
      "outputs": [],
      "source": [
        "data = data.select(data.Rpt_Area_Desc,data.new_column.alias(\"Count\"))"
      ]
    },
    {
      "cell_type": "code",
      "execution_count": null,
      "id": "fc8ece88",
      "metadata": {
        "id": "fc8ece88"
      },
      "outputs": [],
      "source": [
        "data = data.withColumn('Count', f.count('*').over(Window.partitionBy(data.Rpt_Area_Desc, data.Count)))\n",
        "# using window we get only required features"
      ]
    },
    {
      "cell_type": "code",
      "execution_count": null,
      "id": "006bc83e",
      "metadata": {
        "id": "006bc83e"
      },
      "outputs": [],
      "source": [
        "data = data.distinct()\n",
        "# used to remove all the same repeating elements"
      ]
    },
    {
      "cell_type": "code",
      "execution_count": null,
      "id": "3138e7ee",
      "metadata": {
        "colab": {
          "base_uri": "https://localhost:8080/"
        },
        "id": "3138e7ee",
        "outputId": "43097c10-2864-4b98-e09b-ef17671d19f8"
      },
      "outputs": [
        {
          "output_type": "stream",
          "name": "stdout",
          "text": [
            "+--------------------+-----+\n",
            "|       Rpt_Area_Desc|Count|\n",
            "+--------------------+-----+\n",
            "|        Food Service| 1093|\n",
            "|   Local Confinement|    2|\n",
            "|         Summer Food|  242|\n",
            "|      Swimming Pools|  420|\n",
            "|        Institutions|   30|\n",
            "|            Day Care|  173|\n",
            "|         Mobile Food|  147|\n",
            "|        Summer Camps|    4|\n",
            "|   Bed&Breakfast Inn|    2|\n",
            "|    School Buildings|   89|\n",
            "|  Bed&Breakfast Home|    4|\n",
            "|Tattoo Establishm...|   32|\n",
            "|                null|   13|\n",
            "|             Lodging|   62|\n",
            "|    Residential Care|  154|\n",
            "|      Adult Day Care|    5|\n",
            "+--------------------+-----+\n",
            "\n"
          ]
        }
      ],
      "source": [
        "data.show()"
      ]
    },
    {
      "cell_type": "code",
      "execution_count": null,
      "id": "7a1ea471",
      "metadata": {
        "colab": {
          "base_uri": "https://localhost:8080/"
        },
        "id": "7a1ea471",
        "outputId": "7eae07a7-7f22-4a5d-e29a-a781ea14f861"
      },
      "outputs": [
        {
          "output_type": "stream",
          "name": "stdout",
          "text": [
            "+----------+\n",
            "|sum(Count)|\n",
            "+----------+\n",
            "|      2472|\n",
            "+----------+\n",
            "\n"
          ]
        }
      ],
      "source": [
        "data.groupby().sum().show()\n",
        "# proof that initial count is equal to final"
      ]
    },
    {
      "cell_type": "code",
      "execution_count": null,
      "id": "b5b4cd20",
      "metadata": {
        "colab": {
          "base_uri": "https://localhost:8080/"
        },
        "id": "b5b4cd20",
        "outputId": "1cf65306-c0b1-4d4c-bb45-cdf339a33695"
      },
      "outputs": [
        {
          "output_type": "stream",
          "name": "stdout",
          "text": [
            "+--------------------+-----+\n",
            "|       Rpt_Area_Desc|Count|\n",
            "+--------------------+-----+\n",
            "|        Food Service| 1093|\n",
            "|   Local Confinement|    2|\n",
            "|         Summer Food|  242|\n",
            "|      Swimming Pools|  420|\n",
            "|        Institutions|   30|\n",
            "|            Day Care|  173|\n",
            "|         Mobile Food|  147|\n",
            "|        Summer Camps|    4|\n",
            "|   Bed&Breakfast Inn|    2|\n",
            "|    School Buildings|   89|\n",
            "|  Bed&Breakfast Home|    4|\n",
            "|Tattoo Establishm...|   32|\n",
            "|             Lodging|   62|\n",
            "|    Residential Care|  154|\n",
            "|      Adult Day Care|    5|\n",
            "+--------------------+-----+\n",
            "\n"
          ]
        }
      ],
      "source": [
        "data = data.filter(data.Rpt_Area_Desc!=\"null\")\n",
        "data.show()"
      ]
    },
    {
      "cell_type": "markdown",
      "source": [
        "# Question 3"
      ],
      "metadata": {
        "id": "iYpE9al6APvO"
      },
      "id": "iYpE9al6APvO"
    },
    {
      "cell_type": "code",
      "execution_count": null,
      "id": "2e1098eb",
      "metadata": {
        "id": "2e1098eb"
      },
      "outputs": [],
      "source": [
        "# question 3\n",
        "data = spark.read.option(\"delimiter\",\",\").csv('populationbycountry19802010millions.csv', header=True)\n"
      ]
    },
    {
      "cell_type": "code",
      "execution_count": null,
      "id": "eae32664",
      "metadata": {
        "id": "eae32664"
      },
      "outputs": [],
      "source": [
        "import pyspark.sql.functions as f\n",
        "\n",
        "data2 = data.select(\n",
        "    '_c0',\n",
        "    *[((f.col(str(year)) - f.col(str(year-1))) / f.col(str(year-1))).alias('%s'%year)\n",
        "      for year in range(1981,2011)]\n",
        ")\n",
        "#function to convert the columns into percent values"
      ]
    },
    {
      "cell_type": "code",
      "execution_count": null,
      "id": "2c9e07a4",
      "metadata": {
        "id": "2c9e07a4"
      },
      "outputs": [],
      "source": [
        "import pandas as pd"
      ]
    },
    {
      "cell_type": "code",
      "execution_count": null,
      "id": "9c1e3846",
      "metadata": {
        "colab": {
          "base_uri": "https://localhost:8080/"
        },
        "id": "9c1e3846",
        "outputId": "965eb709-8389-4df2-ab3d-a196fae11b5f"
      },
      "outputs": [
        {
          "output_type": "stream",
          "name": "stdout",
          "text": [
            "              _c0  Year     Value\n",
            "185   Afghanistan  1981 -0.091063\n",
            "417   Afghanistan  1982 -0.080172\n",
            "649   Afghanistan  1983 -0.011676\n",
            "881   Afghanistan  1984  0.026005\n",
            "1113  Afghanistan  1985  0.026648\n",
            "...           ...   ...       ...\n",
            "5983     Zimbabwe  2006 -0.008174\n",
            "6215     Zimbabwe  2007 -0.008761\n",
            "6447     Zimbabwe  2008 -0.008134\n",
            "6679     Zimbabwe  2009  0.003746\n",
            "6911     Zimbabwe  2010  0.022754\n",
            "\n",
            "[6960 rows x 3 columns]\n"
          ]
        }
      ],
      "source": [
        "data1 = data2.toPandas()\n",
        "data1 = data1.melt(id_vars=[\"_c0\"],\n",
        "        var_name=\"Year\",\n",
        "        value_name=\"Value\")\n",
        "\n",
        "data1 = data1.sort_values([\"_c0\",\"Year\"])\n",
        "print(data1)\n",
        "#converting to numpy to melt no other alternative for spark was found"
      ]
    },
    {
      "cell_type": "code",
      "execution_count": null,
      "id": "a643578c",
      "metadata": {
        "id": "a643578c"
      },
      "outputs": [],
      "source": [
        "data1= spark.createDataFrame(data1) \n",
        "# converting back to spark"
      ]
    },
    {
      "cell_type": "code",
      "execution_count": null,
      "id": "0c39fa95",
      "metadata": {
        "colab": {
          "base_uri": "https://localhost:8080/"
        },
        "id": "0c39fa95",
        "outputId": "e002cadc-539d-4d42-a08e-9be05887a989"
      },
      "outputs": [
        {
          "output_type": "stream",
          "name": "stdout",
          "text": [
            "+-----------+----+--------------------+\n",
            "|        _c0|Year|               Value|\n",
            "+-----------+----+--------------------+\n",
            "|Afghanistan|1981|-0.09106330931425992|\n",
            "|Afghanistan|1982|-0.08017227257036874|\n",
            "|Afghanistan|1983|-0.01167567619139...|\n",
            "|Afghanistan|1984|0.026005222604254943|\n",
            "|Afghanistan|1985| 0.02664844470371272|\n",
            "|Afghanistan|1986|-6.68259798025093...|\n",
            "|Afghanistan|1987|-0.00653192673114...|\n",
            "|Afghanistan|1988|0.007256438521818884|\n",
            "|Afghanistan|1989| 0.02392884582192217|\n",
            "|Afghanistan|1990|0.003149814203476...|\n",
            "|Afghanistan|1991|0.005784657571321175|\n",
            "|Afghanistan|1992| 0.09817500630213119|\n",
            "|Afghanistan|1993| 0.13224594754698688|\n",
            "|Afghanistan|1994| 0.08727661664211225|\n",
            "|Afghanistan|1995|0.051303853790332456|\n",
            "|Afghanistan|1996|0.033221262523444865|\n",
            "|Afghanistan|1997| 0.03149161953520448|\n",
            "|Afghanistan|1998|  0.0313271404601805|\n",
            "|Afghanistan|1999|0.032625690181581436|\n",
            "|Afghanistan|2000|0.009136831126266252|\n",
            "+-----------+----+--------------------+\n",
            "only showing top 20 rows\n",
            "\n"
          ]
        }
      ],
      "source": [
        "data1.show()"
      ]
    },
    {
      "cell_type": "code",
      "execution_count": null,
      "id": "f0544de4",
      "metadata": {
        "id": "f0544de4"
      },
      "outputs": [],
      "source": [
        "data1 = data1.filter(data1.Value!=\"NaN\")\n",
        "#removing all nan values"
      ]
    },
    {
      "cell_type": "code",
      "execution_count": null,
      "id": "7a7b02bc",
      "metadata": {
        "colab": {
          "base_uri": "https://localhost:8080/"
        },
        "id": "7a7b02bc",
        "outputId": "c3e2c0e4-d92e-4085-861f-e6152af7e190"
      },
      "outputs": [
        {
          "output_type": "stream",
          "name": "stdout",
          "text": [
            "+--------------------+----+-------------------+\n",
            "|                 _c0|Year|              Value|\n",
            "+--------------------+----+-------------------+\n",
            "|              Kuwait|1992| 0.4863343882962002|\n",
            "|Falkland Islands ...|1997| 0.2149999999999999|\n",
            "|              Rwanda|1996| 0.1961417728550077|\n",
            "|          Montserrat|2000|0.16863905325443793|\n",
            "|              Rwanda|1997|0.16817638846032829|\n",
            "|       French Guiana|1983|0.14285714285714277|\n",
            "|          Montserrat|2002|  0.134433962264151|\n",
            "|         Afghanistan|1993|0.13224594754698688|\n",
            "|            Djibouti|1990| 0.1282404791501865|\n",
            "|          Montserrat|2008|0.12638580931263863|\n",
            "|               Qatar|1983| 0.1263433611956396|\n",
            "|       French Guiana|1985|0.12499999999999993|\n",
            "|      Western Sahara|1981|0.12133182844243788|\n",
            "|             Liberia|1998|0.12017449760423381|\n",
            "|              Jordan|1991|0.11273939557210028|\n",
            "|      Western Sahara|1982|0.11115105327485802|\n",
            "|       French Guiana|1987|0.11111111111111122|\n",
            "|      Cayman Islands|1988|0.11010421386497515|\n",
            "|               Qatar|1984|0.10964057316781224|\n",
            "|        Saint Helena|1984|0.10962962962962966|\n",
            "+--------------------+----+-------------------+\n",
            "only showing top 20 rows\n",
            "\n"
          ]
        }
      ],
      "source": [
        "data1.sort(data1.Value.desc()).show()\n",
        "#final answer"
      ]
    },
    {
      "cell_type": "markdown",
      "source": [
        "# Question 4"
      ],
      "metadata": {
        "id": "FeKLiKM9AXWj"
      },
      "id": "FeKLiKM9AXWj"
    },
    {
      "cell_type": "code",
      "execution_count": null,
      "id": "14f39abe",
      "metadata": {
        "id": "14f39abe"
      },
      "outputs": [],
      "source": [
        "text = sc.textFile(\"romeo-juliet-pg1777.txt\")\n",
        "# note as text file"
      ]
    },
    {
      "cell_type": "code",
      "execution_count": null,
      "id": "25b55f9f",
      "metadata": {
        "id": "25b55f9f"
      },
      "outputs": [],
      "source": [
        "import re\n",
        "def func(text):\n",
        "    text = text.lower()\n",
        "    text = re.sub(\"[^0-9a-zA-Z]\", \" \", text)\n",
        "    return text\n",
        "text1 = text.map(func)\n",
        "#function similar to assignment 1 \n",
        "# converted to lower and replaced all special characters"
      ]
    },
    {
      "cell_type": "code",
      "execution_count": null,
      "id": "6d8bdfc7",
      "metadata": {
        "id": "6d8bdfc7"
      },
      "outputs": [],
      "source": [
        "text2 = text1.flatMap(lambda l: l.split(\" \"))\n",
        "# split on white spaces"
      ]
    },
    {
      "cell_type": "code",
      "execution_count": null,
      "id": "62ee3fb2",
      "metadata": {
        "colab": {
          "base_uri": "https://localhost:8080/"
        },
        "id": "62ee3fb2",
        "outputId": "f9260de2-c1db-4f43-9d20-0cce742bf64e"
      },
      "outputs": [
        {
          "output_type": "stream",
          "name": "stdout",
          "text": [
            "('', 22916)\n",
            "('this', 258)\n",
            "('is', 389)\n",
            "('presented', 1)\n",
            "('project', 27)\n",
            "('gutenberg', 24)\n",
            "('in', 329)\n",
            "('cooperation', 1)\n",
            "('world', 32)\n",
            "('library', 16)\n"
          ]
        }
      ],
      "source": [
        "from operator import add\n",
        "count = text2.map(lambda w: (w, 1)).reduceByKey(add)\n",
        "for i in count.take(10): print(i)"
      ]
    },
    {
      "cell_type": "code",
      "execution_count": null,
      "id": "7044304b",
      "metadata": {
        "colab": {
          "base_uri": "https://localhost:8080/"
        },
        "id": "7044304b",
        "outputId": "7732c4ea-23f6-49d1-f45c-90f64b53018f"
      },
      "outputs": [
        {
          "output_type": "stream",
          "name": "stdout",
          "text": [
            "+-----------+-----+\n",
            "|       word|count|\n",
            "+-----------+-----+\n",
            "|           |22916|\n",
            "|       this|  258|\n",
            "|         is|  389|\n",
            "|  presented|    1|\n",
            "|    project|   27|\n",
            "|  gutenberg|   24|\n",
            "|         in|  329|\n",
            "|cooperation|    1|\n",
            "|      world|   32|\n",
            "|    library|   16|\n",
            "+-----------+-----+\n",
            "only showing top 10 rows\n",
            "\n"
          ]
        }
      ],
      "source": [
        "final = count.toDF(schema=['word', 'count']).coalesce(8)\n",
        "final.show(10)\n",
        "# total count is 22916"
      ]
    },
    {
      "cell_type": "code",
      "execution_count": null,
      "id": "191b70bc",
      "metadata": {
        "colab": {
          "base_uri": "https://localhost:8080/"
        },
        "id": "191b70bc",
        "outputId": "fc837fa2-cfc6-42da-ff62-c1f1344b0520"
      },
      "outputs": [
        {
          "output_type": "stream",
          "name": "stdout",
          "text": [
            "+-----------+-----+\n",
            "|       word|count|\n",
            "+-----------+-----+\n",
            "|       this|  258|\n",
            "|         is|  389|\n",
            "|  presented|    1|\n",
            "|    project|   27|\n",
            "|  gutenberg|   24|\n",
            "|         in|  329|\n",
            "|cooperation|    1|\n",
            "|      world|   32|\n",
            "|    library|   16|\n",
            "|        inc|   11|\n",
            "+-----------+-----+\n",
            "only showing top 10 rows\n",
            "\n"
          ]
        }
      ],
      "source": [
        "final=final.filter(final.word!=\"\")\n",
        "final.show(10)\n",
        "# final answer"
      ]
    },
    {
      "cell_type": "code",
      "execution_count": null,
      "id": "6550477f",
      "metadata": {
        "id": "6550477f"
      },
      "outputs": [],
      "source": []
    }
  ],
  "metadata": {
    "kernelspec": {
      "display_name": "Python 3",
      "language": "python",
      "name": "python3"
    },
    "language_info": {
      "codemirror_mode": {
        "name": "ipython",
        "version": 3
      },
      "file_extension": ".py",
      "mimetype": "text/x-python",
      "name": "python",
      "nbconvert_exporter": "python",
      "pygments_lexer": "ipython3",
      "version": "3.8.10"
    },
    "colab": {
      "provenance": [],
      "collapsed_sections": []
    }
  },
  "nbformat": 4,
  "nbformat_minor": 5
}